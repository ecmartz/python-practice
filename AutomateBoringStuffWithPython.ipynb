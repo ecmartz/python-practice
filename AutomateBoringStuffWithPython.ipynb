{
 "cells": [
  {
   "cell_type": "code",
   "execution_count": 1,
   "metadata": {
    "collapsed": false
   },
   "outputs": [
    {
     "name": "stdout",
     "output_type": "stream",
     "text": [
      "Hello world!\n",
      "What is your name?\n",
      "EstebaN\n",
      "It is good to meet you, EstebaN\n",
      "The length of your name is:\n",
      "7\n"
     ]
    }
   ],
   "source": [
    "# this program says hello and asks for the name\n",
    "\n",
    "print('Hello world!')\n",
    "print('What is your name?')\n",
    "myName = input()\n",
    "print('It is good to meet you, ' + myName)\n",
    "print('The length of your name is:')\n",
    "print(len(myName))"
   ]
  },
  {
   "cell_type": "code",
   "execution_count": 2,
   "metadata": {
    "collapsed": false
   },
   "outputs": [
    {
     "name": "stdout",
     "output_type": "stream",
     "text": [
      "Hello world!\n",
      "What is your name?\n",
      "esteban\n",
      "It is good to meet you, esteban\n",
      "The length of your name is:\n",
      "7\n"
     ]
    }
   ],
   "source": [
    "# this program says hello and asks for the name\n",
    "\n",
    "print('Hello world!')\n",
    "print('What is your name?')\n",
    "myName = input()\n",
    "print('It is good to meet you, ' + myName)\n",
    "print('The length of your name is:')\n",
    "print(len(myName))"
   ]
  },
  {
   "cell_type": "code",
   "execution_count": 4,
   "metadata": {
    "collapsed": false
   },
   "outputs": [
    {
     "name": "stdout",
     "output_type": "stream",
     "text": [
      "Hello world!\n",
      "What is your name?\n",
      "esteban\n",
      "It is good to meet you, esteban\n",
      "The length of your name is:\n",
      "7\n",
      "What is your age?\n",
      "25\n",
      "You will be 26 in a year\n"
     ]
    }
   ],
   "source": [
    "# this program says hello and asks for the name\n",
    "\n",
    "print('Hello world!')\n",
    "print('What is your name?')\n",
    "myName = input()\n",
    "print('It is good to meet you, ' + myName)\n",
    "print('The length of your name is:')\n",
    "print(len(myName))\n",
    "\n",
    "print('What is your age?')\n",
    "myAge=input()\n",
    "print('You will be ' + str(int(myAge)+1) + ' in a year')\n"
   ]
  },
  {
   "cell_type": "code",
   "execution_count": 5,
   "metadata": {
    "collapsed": false
   },
   "outputs": [
    {
     "data": {
      "text/plain": [
       "3"
      ]
     },
     "execution_count": 5,
     "metadata": {},
     "output_type": "execute_result"
    }
   ],
   "source": [
    "int('3')"
   ]
  },
  {
   "cell_type": "code",
   "execution_count": 6,
   "metadata": {
    "collapsed": false
   },
   "outputs": [
    {
     "data": {
      "text/plain": [
       "True"
      ]
     },
     "execution_count": 6,
     "metadata": {},
     "output_type": "execute_result"
    }
   ],
   "source": [
    "spam=True\n",
    "spam"
   ]
  },
  {
   "cell_type": "code",
   "execution_count": 7,
   "metadata": {
    "collapsed": false
   },
   "outputs": [
    {
     "ename": "SyntaxError",
     "evalue": "can't assign to keyword (<ipython-input-7-06a5316bc321>, line 1)",
     "output_type": "error",
     "traceback": [
      "\u001b[1;36m  File \u001b[1;32m\"<ipython-input-7-06a5316bc321>\"\u001b[1;36m, line \u001b[1;32m1\u001b[0m\n\u001b[1;33m    True=2+2\u001b[0m\n\u001b[1;37m            ^\u001b[0m\n\u001b[1;31mSyntaxError\u001b[0m\u001b[1;31m:\u001b[0m can't assign to keyword\n"
     ]
    }
   ],
   "source": [
    "True=2+2"
   ]
  },
  {
   "cell_type": "code",
   "execution_count": 8,
   "metadata": {
    "collapsed": false
   },
   "outputs": [
    {
     "name": "stdout",
     "output_type": "stream",
     "text": [
      "2+2 is indeed 4\n"
     ]
    }
   ],
   "source": [
    "if 2+2==4:\n",
    "  print('2+2 is indeed 4')\n",
    "else:\n",
    "  print('that\\'s not right')\n"
   ]
  },
  {
   "cell_type": "code",
   "execution_count": 1,
   "metadata": {
    "collapsed": false
   },
   "outputs": [
    {
     "name": "stdout",
     "output_type": "stream",
     "text": [
      "Who are you?\n",
      "lol\n",
      "Who are you?\n",
      "Joe\n",
      "Hello, Joe. What is your password?\n",
      "asdf\n",
      "Who are you?\n",
      "Joe\n",
      "Hello, Joe. What is your password?\n",
      "swordfish\n",
      "Access granted.\n"
     ]
    }
   ],
   "source": [
    "while True:\n",
    "    print('Who are you?')\n",
    "    name = input()\n",
    "    if name != 'Joe':\n",
    "        continue\n",
    "    print('Hello, Joe. What is your password?')\n",
    "    password = input()\n",
    "    if password == 'swordfish':\n",
    "        break\n",
    "print('Access granted.')"
   ]
  },
  {
   "cell_type": "code",
   "execution_count": 5,
   "metadata": {
    "collapsed": false
   },
   "outputs": [
    {
     "name": "stdout",
     "output_type": "stream",
     "text": [
      "3\n",
      "Greetings!\n"
     ]
    }
   ],
   "source": [
    "spam = int(input())\n",
    "if spam==1:\n",
    "    print('Hello')\n",
    "elif spam==2:\n",
    "    print('Howdy')\n",
    "else:\n",
    "    print('Greetings!')"
   ]
  },
  {
   "cell_type": "code",
   "execution_count": 6,
   "metadata": {
    "collapsed": false
   },
   "outputs": [
    {
     "data": {
      "text/plain": [
       "3"
      ]
     },
     "execution_count": 6,
     "metadata": {},
     "output_type": "execute_result"
    }
   ],
   "source": [
    "round(3.14159)"
   ]
  },
  {
   "cell_type": "code",
   "execution_count": 7,
   "metadata": {
    "collapsed": false
   },
   "outputs": [
    {
     "data": {
      "text/plain": [
       "4"
      ]
     },
     "execution_count": 7,
     "metadata": {},
     "output_type": "execute_result"
    }
   ],
   "source": [
    "round(3.90)"
   ]
  },
  {
   "cell_type": "code",
   "execution_count": 4,
   "metadata": {
    "collapsed": false
   },
   "outputs": [
    {
     "name": "stdout",
     "output_type": "stream",
     "text": [
      "Reply hazy try again\n"
     ]
    }
   ],
   "source": [
    "import random\n",
    "def getAnswer(answerNumber):\n",
    "    if answerNumber == 1:\n",
    "        return 'It is certain'\n",
    "    elif answerNumber ==2:\n",
    "        return 'It is decidely so'\n",
    "    elif answerNumber ==3:\n",
    "        return 'Yes'\n",
    "    elif answerNumber ==4:\n",
    "        return 'Reply hazy try again'\n",
    "    elif answerNumber ==5:\n",
    "        return 'Ask again later'\n",
    "\n",
    "r=random.randint(1,6)\n",
    "fortune=getAnswer(r)\n",
    "print(fortune)"
   ]
  },
  {
   "cell_type": "raw",
   "metadata": {},
   "source": []
  },
  {
   "cell_type": "code",
   "execution_count": 6,
   "metadata": {
    "collapsed": false
   },
   "outputs": [
    {
     "name": "stdout",
     "output_type": "stream",
     "text": [
      "Hello@World\n"
     ]
    }
   ],
   "source": [
    "print('Hello', 'World', sep='@')"
   ]
  },
  {
   "cell_type": "code",
   "execution_count": 7,
   "metadata": {
    "collapsed": false
   },
   "outputs": [
    {
     "name": "stdout",
     "output_type": "stream",
     "text": [
      "HelloWorld\n"
     ]
    }
   ],
   "source": [
    "print('Hello', end='')\n",
    "print('World')"
   ]
  },
  {
   "cell_type": "code",
   "execution_count": 8,
   "metadata": {
    "collapsed": false
   },
   "outputs": [
    {
     "name": "stdout",
     "output_type": "stream",
     "text": [
      "bacon local\n",
      "spam local\n",
      "bacon local\n",
      "global\n"
     ]
    }
   ],
   "source": [
    "def spam():\n",
    "    eggs = 'spam local'\n",
    "    print(eggs)\n",
    "\n",
    "def bacon():\n",
    "    eggs = 'bacon local'\n",
    "    print(eggs)\n",
    "    spam()\n",
    "    print(eggs)\n",
    "\n",
    "eggs = 'global'\n",
    "bacon()\n",
    "print(eggs)"
   ]
  },
  {
   "cell_type": "code",
   "execution_count": 9,
   "metadata": {
    "collapsed": false
   },
   "outputs": [
    {
     "name": "stdout",
     "output_type": "stream",
     "text": [
      "spam\n"
     ]
    }
   ],
   "source": [
    "def spam():\n",
    "    global eggs\n",
    "    eggs = 'spam'\n",
    "    \n",
    "eggs = 'global'\n",
    "spam()\n",
    "print(eggs)"
   ]
  },
  {
   "cell_type": "code",
   "execution_count": 12,
   "metadata": {
    "collapsed": false
   },
   "outputs": [
    {
     "name": "stdout",
     "output_type": "stream",
     "text": [
      "I'm thinking of a number between 1 and 20\n",
      "Take a guess\n",
      "1\n",
      "Your guess is too low\n",
      "Take a guess\n",
      "2\n",
      "Your guess is too low\n",
      "Take a guess\n",
      "3\n",
      "Your guess is too low\n",
      "Take a guess\n",
      "4\n",
      "Your guess is too low\n",
      "Take a guess\n",
      "5\n",
      "Your guess is too low\n",
      "Take a guess\n",
      "6\n",
      "Your guess is too low\n",
      "Nope. The number was 12\n"
     ]
    }
   ],
   "source": [
    "# This is a guess the number game\n",
    "import random\n",
    "secretNumber = random.randint(1, 20)\n",
    "print('I\\'m thinking of a number between 1 and 20')\n",
    "\n",
    "# Ask the player to guess 6 times\n",
    "for guessTaken in range(1,7):\n",
    "    print('Take a guess')\n",
    "    guess = int(input())\n",
    "    \n",
    "    if guess < secretNumber:\n",
    "        print('Your guess is too low')\n",
    "    elif guess > secretNumber:\n",
    "        print('Your guess is too high')\n",
    "    else:\n",
    "        break\n",
    "\n",
    "if guess == secretNumber:\n",
    "    print('Good. The number was ' + str(secretNumber))\n",
    "else:\n",
    "    print('Nope. The number was ' + str(secretNumber))"
   ]
  },
  {
   "cell_type": "code",
   "execution_count": 2,
   "metadata": {
    "collapsed": false
   },
   "outputs": [
    {
     "name": "stdout",
     "output_type": "stream",
     "text": [
      "Enter the name or cat1 (Or enter nothing to stop.): \n",
      "mittens\n",
      "Enter the name or cat2 (Or enter nothing to stop.): \n",
      "zelda\n",
      "Enter the name or cat3 (Or enter nothing to stop.): \n",
      "basil\n",
      "Enter the name or cat4 (Or enter nothing to stop.): \n",
      "\n",
      "The cat names are: \n",
      " mittens\n",
      " zelda\n",
      " basil\n"
     ]
    }
   ],
   "source": [
    "catNames = []\n",
    "while True:\n",
    "    print('Enter the name or cat'+str(len(catNames)+1) + ' (Or enter nothing to stop.): ')\n",
    "    name = input()\n",
    "    if name == '':\n",
    "        break\n",
    "    catNames = catNames + [name] #list concatenation\n",
    "print('The cat names are: ')\n",
    "for name in catNames:\n",
    "    print(' '+name)"
   ]
  },
  {
   "cell_type": "code",
   "execution_count": 7,
   "metadata": {
    "collapsed": false
   },
   "outputs": [
    {
     "name": "stdout",
     "output_type": "stream",
     "text": [
      "It is decidedly so\n"
     ]
    }
   ],
   "source": [
    "import random\n",
    "\n",
    "messages = ['It is certain',\n",
    "          'It is decidedly so',\n",
    "          'My reply is no',\n",
    "          'Very doubtful']\n",
    "print(messages[random.randint(0, len(messages) - 1)])"
   ]
  },
  {
   "cell_type": "code",
   "execution_count": 3,
   "metadata": {
    "collapsed": false
   },
   "outputs": [
    {
     "name": "stdout",
     "output_type": "stream",
     "text": [
      "Enter a name (blank to quit):\n",
      "Alice\n",
      "Apr 1 is the birthday of Alice\n",
      "Enter a name (blank to quit):\n",
      "David\n",
      "I do not have birthday information for David\n",
      "What is their birthday?\n",
      "Apr 10\n",
      "Birthday database was updated.\n",
      "Enter a name (blank to quit):\n",
      "David\n",
      "Apr 10 is the birthday of David\n",
      "Enter a name (blank to quit):\n",
      "\n"
     ]
    }
   ],
   "source": [
    "# birthdays.py\n",
    "birthdays = {'Alice':'Apr 1', 'Bob':'Dec 12', 'Carol':'Mar 4'}\n",
    "\n",
    "while True:\n",
    "    print('Enter a name (blank to quit):')\n",
    "    name = input()\n",
    "    if name == '':\n",
    "        break\n",
    "    \n",
    "    if name in birthdays:\n",
    "        print(birthdays[name] + ' is the birthday of ' + name)\n",
    "    else:\n",
    "        print('I do not have birthday information for ' + name)\n",
    "        print('What is their birthday?')\n",
    "        bday = input()\n",
    "        birthdays[name] = bday\n",
    "        print('Birthday database was updated.')"
   ]
  },
  {
   "cell_type": "code",
   "execution_count": 4,
   "metadata": {
    "collapsed": false
   },
   "outputs": [
    {
     "name": "stdout",
     "output_type": "stream",
     "text": [
      "red\n",
      "42\n"
     ]
    }
   ],
   "source": [
    "spam = {'color':'red', 'age':42}\n",
    "for v in spam.values():\n",
    "    print(v)"
   ]
  },
  {
   "cell_type": "code",
   "execution_count": 5,
   "metadata": {
    "collapsed": false
   },
   "outputs": [
    {
     "name": "stdout",
     "output_type": "stream",
     "text": [
      "color\n",
      "age\n"
     ]
    }
   ],
   "source": [
    "spam = {'color':'red', 'age':42}\n",
    "for v in spam.keys():\n",
    "    print(v)"
   ]
  },
  {
   "cell_type": "code",
   "execution_count": 6,
   "metadata": {
    "collapsed": false
   },
   "outputs": [
    {
     "name": "stdout",
     "output_type": "stream",
     "text": [
      "('color', 'red')\n",
      "('age', 42)\n"
     ]
    }
   ],
   "source": [
    "spam = {'color':'red', 'age':42}\n",
    "for v in spam.items():\n",
    "    print(v)"
   ]
  },
  {
   "cell_type": "code",
   "execution_count": 8,
   "metadata": {
    "collapsed": false
   },
   "outputs": [
    {
     "data": {
      "text/plain": [
       "['color', 'age']"
      ]
     },
     "execution_count": 8,
     "metadata": {},
     "output_type": "execute_result"
    }
   ],
   "source": [
    "spam = {'color':'red', 'age':42}\n",
    "list(spam.keys())"
   ]
  },
  {
   "cell_type": "code",
   "execution_count": 10,
   "metadata": {
    "collapsed": false
   },
   "outputs": [
    {
     "name": "stdout",
     "output_type": "stream",
     "text": [
      "Key: color Value: red\n",
      "Key: age Value: 42\n"
     ]
    }
   ],
   "source": [
    "spam = {'color':'red', 'age':42}\n",
    "for k,v in spam.items():\n",
    "    print('Key: '+k+' Value: '+str(v))"
   ]
  },
  {
   "cell_type": "code",
   "execution_count": 15,
   "metadata": {
    "collapsed": false
   },
   "outputs": [
    {
     "data": {
      "text/plain": [
       "True"
      ]
     },
     "execution_count": 15,
     "metadata": {},
     "output_type": "execute_result"
    }
   ],
   "source": [
    "spam = {'name':'Zophie','age':7}\n",
    "'name' in spam.keys()"
   ]
  },
  {
   "cell_type": "code",
   "execution_count": 17,
   "metadata": {
    "collapsed": false
   },
   "outputs": [
    {
     "name": "stdout",
     "output_type": "stream",
     "text": [
      "I am bringing 2 cups.\n",
      "I am bringing 0 eggs.\n"
     ]
    }
   ],
   "source": [
    "picnicItems={'apples':5, 'cups':2}\n",
    "print('I am bringing '+str(picnicItems.get('cups',0))+' cups.')\n",
    "print('I am bringing '+str(picnicItems.get('eggs',0))+' eggs.')"
   ]
  },
  {
   "cell_type": "code",
   "execution_count": 19,
   "metadata": {
    "collapsed": false
   },
   "outputs": [
    {
     "data": {
      "text/plain": [
       "'black'"
      ]
     },
     "execution_count": 19,
     "metadata": {},
     "output_type": "execute_result"
    }
   ],
   "source": [
    "spam = {'name':'Pooka','age':5}\n",
    "spam.setdefault('color','black')"
   ]
  },
  {
   "cell_type": "code",
   "execution_count": 20,
   "metadata": {
    "collapsed": false
   },
   "outputs": [
    {
     "data": {
      "text/plain": [
       "'black'"
      ]
     },
     "execution_count": 20,
     "metadata": {},
     "output_type": "execute_result"
    }
   ],
   "source": [
    "spam.setdefault('color','white')"
   ]
  },
  {
   "cell_type": "code",
   "execution_count": 23,
   "metadata": {
    "collapsed": false
   },
   "outputs": [
    {
     "name": "stdout",
     "output_type": "stream",
     "text": [
      "{' ': 13,\n",
      " ',': 1,\n",
      " '.': 1,\n",
      " 'A': 1,\n",
      " 'I': 1,\n",
      " 'a': 4,\n",
      " 'b': 1,\n",
      " 'c': 3,\n",
      " 'd': 3,\n",
      " 'e': 5,\n",
      " 'g': 2,\n",
      " 'h': 3,\n",
      " 'i': 6,\n",
      " 'k': 2,\n",
      " 'l': 3,\n",
      " 'n': 4,\n",
      " 'o': 2,\n",
      " 'p': 1,\n",
      " 'r': 5,\n",
      " 's': 3,\n",
      " 't': 6,\n",
      " 'w': 2,\n",
      " 'y': 1}\n"
     ]
    }
   ],
   "source": [
    "# charactercount.py with pretty print\n",
    "import pprint\n",
    "message = 'It was a bright cold day in April, and the clocks were striking thirteen.'\n",
    "count = {}\n",
    "for character in message:\n",
    "    count.setdefault(character, 0)\n",
    "    count[character] = count[character] + 1\n",
    "pprint.pprint(count)"
   ]
  },
  {
   "cell_type": "code",
   "execution_count": 6,
   "metadata": {
    "collapsed": false
   },
   "outputs": [
    {
     "name": "stdout",
     "output_type": "stream",
     "text": [
      "1 dagger\n",
      "12 arrow\n",
      "6 torch\n",
      "1 rope\n",
      "42 gold coin\n",
      "Total unique items: 5\n"
     ]
    }
   ],
   "source": [
    "# Fantasy game inventory\n",
    "stuff = {'torch':6, 'rope':1, 'gold coin':42, 'dagger':1, 'arrow':12}\n",
    "def displayInventory(inventory):\n",
    "    countInv = 0\n",
    "    for i, j in inventory.items():\n",
    "        print(str(j) + ' ' + i)\n",
    "        countInv += 1\n",
    "    print('Total unique items: ' + str(countInv))\n",
    "        \n",
    "displayInventory(stuff)"
   ]
  },
  {
   "cell_type": "code",
   "execution_count": 11,
   "metadata": {
    "collapsed": false
   },
   "outputs": [
    {
     "name": "stdout",
     "output_type": "stream",
     "text": [
      "1 ruby\n",
      "1 dagger\n",
      "1 rope\n",
      "45 gold coin\n",
      "Total unique items: 4\n"
     ]
    }
   ],
   "source": [
    "# Fantasy game inventory\n",
    "def displayInventory(inventory):\n",
    "    countInv = 0\n",
    "    for i, j in inventory.items():\n",
    "        print(str(j) + ' ' + i)\n",
    "        countInv += 1\n",
    "    print('Total unique items: ' + str(countInv))\n",
    "\n",
    "def addToInventory(inventory, addItems):\n",
    "    for i in addItems:\n",
    "        if i in inventory:\n",
    "            inventory[i] += 1\n",
    "        else:\n",
    "            inventory[i] = 1\n",
    "    return inventory\n",
    "        \n",
    "dragonLoot = ['gold coin', 'dagger', 'gold coin', 'gold coin', 'ruby']\n",
    "inv = {'gold coin': 42, 'rope':1}\n",
    "inv = addToInventory(inv, dragonLoot)\n",
    "displayInventory(inv)"
   ]
  },
  {
   "cell_type": "code",
   "execution_count": null,
   "metadata": {
    "collapsed": true
   },
   "outputs": [],
   "source": []
  }
 ],
 "metadata": {
  "kernelspec": {
   "display_name": "Python 3",
   "language": "python",
   "name": "python3"
  },
  "language_info": {
   "codemirror_mode": {
    "name": "ipython",
    "version": 3
   },
   "file_extension": ".py",
   "mimetype": "text/x-python",
   "name": "python",
   "nbconvert_exporter": "python",
   "pygments_lexer": "ipython3",
   "version": "3.4.3"
  }
 },
 "nbformat": 4,
 "nbformat_minor": 0
}
